{
 "cells": [
  {
   "cell_type": "markdown",
   "metadata": {},
   "source": [
    "# Задание"
   ]
  },
  {
   "cell_type": "markdown",
   "metadata": {},
   "source": [
    "Компьютер загадывает целое число от 1 до 100, и требуется написать программу, которая его угадывает менее, чем за 20 попыток в среднем.\n",
    "\n",
    "Алгоритм учитывает информацию о том, больше ли или меньше случайное число нужного нам числа.\n",
    "\n",
    "Результаты оцениваются по среднему количеству попыток при 1000 повторений."
   ]
  },
  {
   "cell_type": "markdown",
   "metadata": {},
   "source": [
    "# Решение"
   ]
  },
  {
   "cell_type": "markdown",
   "metadata": {},
   "source": [
    "Ипортируем необходимые модули."
   ]
  },
  {
   "cell_type": "code",
   "execution_count": 5,
   "metadata": {},
   "outputs": [],
   "source": [
    "import numpy as np"
   ]
  },
  {
   "cell_type": "markdown",
   "metadata": {},
   "source": [
    "Функция, которая принимает в качестве аргумента загаданное число и угадывает его с корректировкой по значению \"больше-меньше\":"
   ]
  },
  {
   "cell_type": "code",
   "execution_count": 6,
   "metadata": {},
   "outputs": [],
   "source": [
    "def binary_predict(number: int = 1) -> int:\n",
    "    count = 0 # начальное количество попыток\n",
    "    low = 0 # начальная нижняя граница поиска\n",
    "    high = 101 # начальная верхняя граница чисел\n",
    "    predict_number = (low + high)//2\n",
    "    while number != predict_number:\n",
    "        count += 1\n",
    "        if predict_number > number:\n",
    "            high = predict_number\n",
    "        elif predict_number < number:\n",
    "            low = predict_number\n",
    "        predict_number = (low + high)//2\n",
    "    return count   "
   ]
  },
  {
   "cell_type": "markdown",
   "metadata": {},
   "source": [
    "Функция, которая принимает в качестве аргумента функцию угадывания, загадывает список из 1000 случайных чисел от 1 до 100 и возвращает среднее количество попыток угадывания:"
   ]
  },
  {
   "cell_type": "code",
   "execution_count": 7,
   "metadata": {},
   "outputs": [],
   "source": [
    "def score_game(binary_predict) -> int:\n",
    "    count_ls = []\n",
    "    random_array = np.random.randint(1, 101, size=(1000))\n",
    "\n",
    "    for number in random_array:\n",
    "        count_ls.append(binary_predict(number))\n",
    "\n",
    "    score = int(np.mean(count_ls))\n",
    "    print(f\"Ваш алгоритм угадывает число в среднем за: {score} попыток\")\n",
    "    return score"
   ]
  },
  {
   "cell_type": "markdown",
   "metadata": {},
   "source": [
    "Запускаем функцию:"
   ]
  },
  {
   "cell_type": "code",
   "execution_count": 8,
   "metadata": {},
   "outputs": [
    {
     "name": "stdout",
     "output_type": "stream",
     "text": [
      "Ваш алгоритм угадывает число в среднем за: 4 попыток\n"
     ]
    }
   ],
   "source": [
    "if __name__ == \"__main__\":\n",
    "    score_game(binary_predict)"
   ]
  }
 ],
 "metadata": {
  "interpreter": {
   "hash": "a53299b606b96763b18389bcaf767e6a7747e7b31d0b9edb16d6c6b2ef5dd4ef"
  },
  "kernelspec": {
   "display_name": "Python 3.9.7 64-bit",
   "language": "python",
   "name": "python3"
  },
  "language_info": {
   "codemirror_mode": {
    "name": "ipython",
    "version": 3
   },
   "file_extension": ".py",
   "mimetype": "text/x-python",
   "name": "python",
   "nbconvert_exporter": "python",
   "pygments_lexer": "ipython3",
   "version": "3.9.7"
  },
  "orig_nbformat": 4
 },
 "nbformat": 4,
 "nbformat_minor": 2
}
